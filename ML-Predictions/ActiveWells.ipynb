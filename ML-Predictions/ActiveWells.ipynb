{
 "cells": [
  {
   "cell_type": "markdown",
   "metadata": {},
   "source": [
    "# Active Wells Forecasting"
   ]
  },
  {
   "cell_type": "markdown",
   "metadata": {},
   "source": [
    "## Importing libraries"
   ]
  },
  {
   "cell_type": "code",
   "execution_count": 1,
   "metadata": {},
   "outputs": [],
   "source": [
    "import pandas as pd\n",
    "import warnings"
   ]
  },
  {
   "cell_type": "code",
   "execution_count": 2,
   "metadata": {},
   "outputs": [],
   "source": [
    "import numpy as np\n",
    "import matplotlib.pyplot as plt\n",
    "from matplotlib.pylab import rcParams\n",
    "import seaborn as sns"
   ]
  },
  {
   "cell_type": "markdown",
   "metadata": {},
   "source": [
    "## Setting optios=ns"
   ]
  },
  {
   "cell_type": "code",
   "execution_count": 26,
   "metadata": {},
   "outputs": [],
   "source": [
    "%matplotlib inline\n",
    "warnings.filterwarnings('ignore')\n",
    "rcParams['figure.figsize'] = 5,6"
   ]
  },
  {
   "cell_type": "code",
   "execution_count": 21,
   "metadata": {},
   "outputs": [
    {
     "data": {
      "text/html": [
       "<div>\n",
       "<style scoped>\n",
       "    .dataframe tbody tr th:only-of-type {\n",
       "        vertical-align: middle;\n",
       "    }\n",
       "\n",
       "    .dataframe tbody tr th {\n",
       "        vertical-align: top;\n",
       "    }\n",
       "\n",
       "    .dataframe thead th {\n",
       "        text-align: right;\n",
       "    }\n",
       "</style>\n",
       "<table border=\"1\" class=\"dataframe\">\n",
       "  <thead>\n",
       "    <tr style=\"text-align: right;\">\n",
       "      <th></th>\n",
       "      <th>BLOCK_NAME</th>\n",
       "      <th>YEAR_OBS</th>\n",
       "      <th>MONSOON</th>\n",
       "    </tr>\n",
       "  </thead>\n",
       "  <tbody>\n",
       "    <tr>\n",
       "      <th>0</th>\n",
       "      <td>Masuda</td>\n",
       "      <td>2016</td>\n",
       "      <td>13.23</td>\n",
       "    </tr>\n",
       "    <tr>\n",
       "      <th>1</th>\n",
       "      <td>Peesangan</td>\n",
       "      <td>2016</td>\n",
       "      <td>19.31</td>\n",
       "    </tr>\n",
       "    <tr>\n",
       "      <th>2</th>\n",
       "      <td>Arain</td>\n",
       "      <td>2016</td>\n",
       "      <td>5.45</td>\n",
       "    </tr>\n",
       "    <tr>\n",
       "      <th>3</th>\n",
       "      <td>Srinagar</td>\n",
       "      <td>2016</td>\n",
       "      <td>6.7</td>\n",
       "    </tr>\n",
       "    <tr>\n",
       "      <th>4</th>\n",
       "      <td>Jawaja</td>\n",
       "      <td>2016</td>\n",
       "      <td>4.12</td>\n",
       "    </tr>\n",
       "  </tbody>\n",
       "</table>\n",
       "</div>"
      ],
      "text/plain": [
       "  BLOCK_NAME  YEAR_OBS MONSOON\n",
       "0     Masuda      2016   13.23\n",
       "1  Peesangan      2016   19.31\n",
       "2      Arain      2016    5.45\n",
       "3   Srinagar      2016     6.7\n",
       "4     Jawaja      2016    4.12"
      ]
     },
     "execution_count": 21,
     "metadata": {},
     "output_type": "execute_result"
    }
   ],
   "source": [
    "ori=pd.read_csv('website_data_20190225.csv')\n",
    "ori.drop(['STATE','DISTRICT','WLCODE','SITE_TYPE','TEH_NAME','LAT','LON','SITE_NAME','POMRB','POMKH','PREMON'],axis=1,inplace=True)\n",
    "ori.replace(to_replace=\"'0\",value=0,inplace=True)\n",
    "ori.head()"
   ]
  },
  {
   "cell_type": "code",
   "execution_count": 22,
   "metadata": {},
   "outputs": [
    {
     "data": {
      "text/html": [
       "<div>\n",
       "<style scoped>\n",
       "    .dataframe tbody tr th:only-of-type {\n",
       "        vertical-align: middle;\n",
       "    }\n",
       "\n",
       "    .dataframe tbody tr th {\n",
       "        vertical-align: top;\n",
       "    }\n",
       "\n",
       "    .dataframe thead th {\n",
       "        text-align: right;\n",
       "    }\n",
       "</style>\n",
       "<table border=\"1\" class=\"dataframe\">\n",
       "  <thead>\n",
       "    <tr style=\"text-align: right;\">\n",
       "      <th></th>\n",
       "      <th>YEAR_OBS</th>\n",
       "      <th>MONSOON</th>\n",
       "    </tr>\n",
       "  </thead>\n",
       "  <tbody>\n",
       "    <tr>\n",
       "      <th>0</th>\n",
       "      <td>2016.0</td>\n",
       "      <td>5.45</td>\n",
       "    </tr>\n",
       "    <tr>\n",
       "      <th>1</th>\n",
       "      <td>2016.0</td>\n",
       "      <td>0</td>\n",
       "    </tr>\n",
       "    <tr>\n",
       "      <th>2</th>\n",
       "      <td>2016.0</td>\n",
       "      <td>2</td>\n",
       "    </tr>\n",
       "    <tr>\n",
       "      <th>3</th>\n",
       "      <td>2016.0</td>\n",
       "      <td>14.12</td>\n",
       "    </tr>\n",
       "    <tr>\n",
       "      <th>4</th>\n",
       "      <td>2016.0</td>\n",
       "      <td>4.45</td>\n",
       "    </tr>\n",
       "  </tbody>\n",
       "</table>\n",
       "</div>"
      ],
      "text/plain": [
       "   YEAR_OBS MONSOON\n",
       "0    2016.0    5.45\n",
       "1    2016.0       0\n",
       "2    2016.0       2\n",
       "3    2016.0   14.12\n",
       "4    2016.0    4.45"
      ]
     },
     "execution_count": 22,
     "metadata": {},
     "output_type": "execute_result"
    }
   ],
   "source": [
    "dataset=pd.DataFrame().reindex_like(ori)\n",
    "dataset.dropna(inplace=True)\n",
    "\n",
    "# j=0\n",
    "# for i in range(0,ori.shape[0]):\n",
    "#     if ori['STATE'][i]=='RJ':\n",
    "#         dataset.loc[j] = ori.iloc[i]\n",
    "#         j+=1\n",
    "# dataset.drop(['STATE'],axis=1,inplace=True)\n",
    "\n",
    "# j=0\n",
    "# for i in range(0,ori.shape[0]):\n",
    "#     if ori['DISTRICT'][i]=='Ajmer':\n",
    "#         dataset.loc[j] = ori.iloc[i]\n",
    "#         j+=1\n",
    "# dataset.drop(['DISTRICT'],axis=1,inplace=True)\n",
    "\n",
    "j=0\n",
    "for i in range(0,ori.shape[0]):\n",
    "    if ori['BLOCK_NAME'][i]=='Arain':\n",
    "        dataset.loc[j] = ori.iloc[i]\n",
    "        j+=1\n",
    "dataset.drop(['BLOCK_NAME'],axis=1,inplace=True)\n",
    "\n",
    "dataset.head()"
   ]
  },
  {
   "cell_type": "code",
   "execution_count": 23,
   "metadata": {},
   "outputs": [
    {
     "data": {
      "text/html": [
       "<div>\n",
       "<style scoped>\n",
       "    .dataframe tbody tr th:only-of-type {\n",
       "        vertical-align: middle;\n",
       "    }\n",
       "\n",
       "    .dataframe tbody tr th {\n",
       "        vertical-align: top;\n",
       "    }\n",
       "\n",
       "    .dataframe thead th {\n",
       "        text-align: right;\n",
       "    }\n",
       "</style>\n",
       "<table border=\"1\" class=\"dataframe\">\n",
       "  <thead>\n",
       "    <tr style=\"text-align: right;\">\n",
       "      <th></th>\n",
       "      <th>YEAR_OBS</th>\n",
       "      <th>No. Of Active Wells</th>\n",
       "    </tr>\n",
       "  </thead>\n",
       "  <tbody>\n",
       "    <tr>\n",
       "      <th>0</th>\n",
       "      <td>2016</td>\n",
       "      <td>5.45</td>\n",
       "    </tr>\n",
       "    <tr>\n",
       "      <th>1</th>\n",
       "      <td>2016</td>\n",
       "      <td>0</td>\n",
       "    </tr>\n",
       "    <tr>\n",
       "      <th>2</th>\n",
       "      <td>2016</td>\n",
       "      <td>2</td>\n",
       "    </tr>\n",
       "    <tr>\n",
       "      <th>3</th>\n",
       "      <td>2016</td>\n",
       "      <td>14.12</td>\n",
       "    </tr>\n",
       "    <tr>\n",
       "      <th>4</th>\n",
       "      <td>2016</td>\n",
       "      <td>4.45</td>\n",
       "    </tr>\n",
       "  </tbody>\n",
       "</table>\n",
       "</div>"
      ],
      "text/plain": [
       "   YEAR_OBS No. Of Active Wells\n",
       "0      2016                5.45\n",
       "1      2016                   0\n",
       "2      2016                   2\n",
       "3      2016               14.12\n",
       "4      2016                4.45"
      ]
     },
     "execution_count": 23,
     "metadata": {},
     "output_type": "execute_result"
    }
   ],
   "source": [
    "dataset['YEAR_OBS']=(dataset['YEAR_OBS']).apply(np.int64)\n",
    "dataset.rename(columns={'MONSOON':'No. Of Active Wells'}, inplace=True)\n",
    "dataset.head()"
   ]
  },
  {
   "cell_type": "code",
   "execution_count": 24,
   "metadata": {},
   "outputs": [
    {
     "data": {
      "text/html": [
       "<div>\n",
       "<style scoped>\n",
       "    .dataframe tbody tr th:only-of-type {\n",
       "        vertical-align: middle;\n",
       "    }\n",
       "\n",
       "    .dataframe tbody tr th {\n",
       "        vertical-align: top;\n",
       "    }\n",
       "\n",
       "    .dataframe thead th {\n",
       "        text-align: right;\n",
       "    }\n",
       "</style>\n",
       "<table border=\"1\" class=\"dataframe\">\n",
       "  <thead>\n",
       "    <tr style=\"text-align: right;\">\n",
       "      <th></th>\n",
       "      <th>No. Of Active Wells</th>\n",
       "    </tr>\n",
       "    <tr>\n",
       "      <th>YEAR_OBS</th>\n",
       "      <th></th>\n",
       "    </tr>\n",
       "  </thead>\n",
       "  <tbody>\n",
       "    <tr>\n",
       "      <th>1994-01-01</th>\n",
       "      <td>3</td>\n",
       "    </tr>\n",
       "    <tr>\n",
       "      <th>1995-01-01</th>\n",
       "      <td>3</td>\n",
       "    </tr>\n",
       "    <tr>\n",
       "      <th>1996-01-01</th>\n",
       "      <td>3</td>\n",
       "    </tr>\n",
       "    <tr>\n",
       "      <th>1997-01-01</th>\n",
       "      <td>3</td>\n",
       "    </tr>\n",
       "    <tr>\n",
       "      <th>1998-01-01</th>\n",
       "      <td>3</td>\n",
       "    </tr>\n",
       "  </tbody>\n",
       "</table>\n",
       "</div>"
      ],
      "text/plain": [
       "            No. Of Active Wells\n",
       "YEAR_OBS                       \n",
       "1994-01-01                    3\n",
       "1995-01-01                    3\n",
       "1996-01-01                    3\n",
       "1997-01-01                    3\n",
       "1998-01-01                    3"
      ]
     },
     "execution_count": 24,
     "metadata": {},
     "output_type": "execute_result"
    }
   ],
   "source": [
    "dataset['YEAR_OBS']=pd.to_datetime(dataset['YEAR_OBS'],yearfirst=True,format='%Y',infer_datetime_format=True)\n",
    "indexedDataset=dataset.groupby('YEAR_OBS').count()\n",
    "\n",
    "indexedDataset.head()"
   ]
  },
  {
   "cell_type": "code",
   "execution_count": 27,
   "metadata": {},
   "outputs": [
    {
     "data": {
      "image/png": "[encoded data removed]",
      "text/plain": [
       "<Figure size 360x432 with 1 Axes>"
      ]
     },
     "metadata": {
      "needs_background": "light"
     },
     "output_type": "display_data"
    }
   ],
   "source": [
    "plt.xlabel('Years')\n",
    "plt.ylabel('No. Of Active Wells')\n",
    "plt.plot(indexedDataset);"
   ]
  },
  {
   "cell_type": "code",
   "execution_count": 52,
   "metadata": {},
   "outputs": [],
   "source": [
    "from statsmodels.tsa.stattools import adfuller\n",
    "def test_stationary(timeseries):\n",
    "    \n",
    "    \n",
    "    moving_average=timeseries.rolling(window=2).mean()\n",
    "    standard_deviation=timeseries.rolling(window=2).std()\n",
    "    \n",
    "    plt.plot(timeseries,color='blue',label=\"Original\")\n",
    "    plt.plot(moving_average,color='red',label='Mean')\n",
    "    plt.plot(standard_deviation,color='black',label='Standard Deviation')\n",
    "    plt.legend(loc='best')  #best for axes\n",
    "    plt.title('Rolling Mean & Deviation')\n",
    "    plt.show(block=False)\n",
    "    \n",
    "    print('Results Of Dickey-Fuller Test')\n",
    "    tstest=adfuller(timeseries.iloc[:, 0],autolag='AIC')\n",
    "    tsoutput=pd.Series(tstest[0:4],index=['Test Statistcs','P-value','#Lags used',\"#Obs. used\"])\n",
    "    for key,value in tstest[4].items():\n",
    "        tsoutput['Critical Value (%s)'%key]=value\n",
    "    print((tsoutput))"
   ]
  },
  {
   "cell_type": "code",
   "execution_count": 53,
   "metadata": {},
   "outputs": [
    {
     "data": {
      "image/png": "[encoded data removed]",
      "text/plain": [
       "<Figure size 360x432 with 1 Axes>"
      ]
     },
     "metadata": {
      "needs_background": "light"
     },
     "output_type": "display_data"
    },
    {
     "name": "stdout",
     "output_type": "stream",
     "text": [
      "Results Of Dickey-Fuller Test\n",
      "Test Statistcs          -1.051580\n",
      "P-value                  0.733990\n",
      "#Lags used               0.000000\n",
      "#Obs. used              21.000000\n",
      "Critical Value (1%)     -3.788386\n",
      "Critical Value (5%)     -3.013098\n",
      "Critical Value (10%)    -2.646397\n",
      "dtype: float64\n"
     ]
    }
   ],
   "source": [
    "test_stationary(indexedDataset)"
   ]
  },
  {
   "cell_type": "code",
   "execution_count": 54,
   "metadata": {},
   "outputs": [
    {
     "data": {
      "image/png": "[encoded data removed]",
      "text/plain": [
       "<Figure size 360x432 with 1 Axes>"
      ]
     },
     "metadata": {
      "needs_background": "light"
     },
     "output_type": "display_data"
    },
    {
     "name": "stdout",
     "output_type": "stream",
     "text": [
      "Results Of Dickey-Fuller Test\n",
      "Test Statistcs          -1.051580\n",
      "P-value                  0.733990\n",
      "#Lags used               0.000000\n",
      "#Obs. used              21.000000\n",
      "Critical Value (1%)     -3.788386\n",
      "Critical Value (5%)     -3.013098\n",
      "Critical Value (10%)    -2.646397\n",
      "dtype: float64\n"
     ]
    }
   ],
   "source": [
    "indexedDataset_logscale=np.log(indexedDataset)\n",
    "test_stationary(indexedDataset_logscale)"
   ]
  },
  {
   "cell_type": "code",
   "execution_count": 55,
   "metadata": {},
   "outputs": [
    {
     "data": {
      "image/png": "[encoded data removed]",
      "text/plain": [
       "<Figure size 360x432 with 1 Axes>"
      ]
     },
     "metadata": {
      "needs_background": "light"
     },
     "output_type": "display_data"
    },
    {
     "name": "stdout",
     "output_type": "stream",
     "text": [
      "Results Of Dickey-Fuller Test\n",
      "Test Statistcs          -4.472136\n",
      "P-value                  0.000221\n",
      "#Lags used               0.000000\n",
      "#Obs. used              20.000000\n",
      "Critical Value (1%)     -3.809209\n",
      "Critical Value (5%)     -3.021645\n",
      "Critical Value (10%)    -2.650713\n",
      "dtype: float64\n"
     ]
    }
   ],
   "source": [
    "rolmeanlog=indexedDataset_logscale.rolling(window=2).mean()\n",
    "dl_ma=indexedDataset_logscale-rolmeanlog\n",
    "dl_ma.dropna(inplace=True)\n",
    "test_stationary(dl_ma)"
   ]
  },
  {
   "cell_type": "code",
   "execution_count": 56,
   "metadata": {},
   "outputs": [
    {
     "data": {
      "text/html": [
       "<div>\n",
       "<style scoped>\n",
       "    .dataframe tbody tr th:only-of-type {\n",
       "        vertical-align: middle;\n",
       "    }\n",
       "\n",
       "    .dataframe tbody tr th {\n",
       "        vertical-align: top;\n",
       "    }\n",
       "\n",
       "    .dataframe thead th {\n",
       "        text-align: right;\n",
       "    }\n",
       "</style>\n",
       "<table border=\"1\" class=\"dataframe\">\n",
       "  <thead>\n",
       "    <tr style=\"text-align: right;\">\n",
       "      <th></th>\n",
       "      <th>No. Of Active Wells</th>\n",
       "    </tr>\n",
       "    <tr>\n",
       "      <th>YEAR_OBS</th>\n",
       "      <th></th>\n",
       "    </tr>\n",
       "  </thead>\n",
       "  <tbody>\n",
       "    <tr>\n",
       "      <th>1994-01-01</th>\n",
       "      <td>1.098612</td>\n",
       "    </tr>\n",
       "    <tr>\n",
       "      <th>1995-01-01</th>\n",
       "      <td>1.098612</td>\n",
       "    </tr>\n",
       "    <tr>\n",
       "      <th>1996-01-01</th>\n",
       "      <td>1.098612</td>\n",
       "    </tr>\n",
       "    <tr>\n",
       "      <th>1997-01-01</th>\n",
       "      <td>1.098612</td>\n",
       "    </tr>\n",
       "    <tr>\n",
       "      <th>1998-01-01</th>\n",
       "      <td>1.098612</td>\n",
       "    </tr>\n",
       "  </tbody>\n",
       "</table>\n",
       "</div>"
      ],
      "text/plain": [
       "            No. Of Active Wells\n",
       "YEAR_OBS                       \n",
       "1994-01-01             1.098612\n",
       "1995-01-01             1.098612\n",
       "1996-01-01             1.098612\n",
       "1997-01-01             1.098612\n",
       "1998-01-01             1.098612"
      ]
     },
     "execution_count": 56,
     "metadata": {},
     "output_type": "execute_result"
    }
   ],
   "source": [
    "indexedDataset_logscale.head()"
   ]
  },
  {
   "cell_type": "code",
   "execution_count": 57,
   "metadata": {},
   "outputs": [
    {
     "data": {
      "text/html": [
       "<div>\n",
       "<style scoped>\n",
       "    .dataframe tbody tr th:only-of-type {\n",
       "        vertical-align: middle;\n",
       "    }\n",
       "\n",
       "    .dataframe tbody tr th {\n",
       "        vertical-align: top;\n",
       "    }\n",
       "\n",
       "    .dataframe thead th {\n",
       "        text-align: right;\n",
       "    }\n",
       "</style>\n",
       "<table border=\"1\" class=\"dataframe\">\n",
       "  <thead>\n",
       "    <tr style=\"text-align: right;\">\n",
       "      <th></th>\n",
       "      <th>No. Of Active Wells</th>\n",
       "    </tr>\n",
       "    <tr>\n",
       "      <th>YEAR_OBS</th>\n",
       "      <th></th>\n",
       "    </tr>\n",
       "  </thead>\n",
       "  <tbody>\n",
       "    <tr>\n",
       "      <th>1994-01-01</th>\n",
       "      <td>NaN</td>\n",
       "    </tr>\n",
       "    <tr>\n",
       "      <th>1995-01-01</th>\n",
       "      <td>1.098612</td>\n",
       "    </tr>\n",
       "    <tr>\n",
       "      <th>1996-01-01</th>\n",
       "      <td>1.098612</td>\n",
       "    </tr>\n",
       "    <tr>\n",
       "      <th>1997-01-01</th>\n",
       "      <td>1.098612</td>\n",
       "    </tr>\n",
       "    <tr>\n",
       "      <th>1998-01-01</th>\n",
       "      <td>1.098612</td>\n",
       "    </tr>\n",
       "  </tbody>\n",
       "</table>\n",
       "</div>"
      ],
      "text/plain": [
       "            No. Of Active Wells\n",
       "YEAR_OBS                       \n",
       "1994-01-01                  NaN\n",
       "1995-01-01             1.098612\n",
       "1996-01-01             1.098612\n",
       "1997-01-01             1.098612\n",
       "1998-01-01             1.098612"
      ]
     },
     "execution_count": 57,
     "metadata": {},
     "output_type": "execute_result"
    }
   ],
   "source": [
    "rolmeanlog.head()"
   ]
  },
  {
   "cell_type": "code",
   "execution_count": 58,
   "metadata": {},
   "outputs": [
    {
     "data": {
      "image/png": "[encoded data removed]",
      "text/plain": [
       "<Figure size 360x432 with 1 Axes>"
      ]
     },
     "metadata": {
      "needs_background": "light"
     },
     "output_type": "display_data"
    },
    {
     "name": "stdout",
     "output_type": "stream",
     "text": [
      "Results Of Dickey-Fuller Test\n",
      "Test Statistcs          -4.252932\n",
      "P-value                  0.000535\n",
      "#Lags used               9.000000\n",
      "#Obs. used              12.000000\n",
      "Critical Value (1%)     -4.137829\n",
      "Critical Value (5%)     -3.154972\n",
      "Critical Value (10%)    -2.714477\n",
      "dtype: float64\n"
     ]
    }
   ],
   "source": [
    "edwa=indexedDataset_logscale.ewm(halflife=2,min_periods=0,adjust=True).mean()\n",
    "dlmeda=indexedDataset_logscale-edwa\n",
    "test_stationary(dlmeda)"
   ]
  },
  {
   "cell_type": "code",
   "execution_count": 59,
   "metadata": {},
   "outputs": [
    {
     "data": {
      "image/png": "[encoded data removed]",
      "text/plain": [
       "<Figure size 360x432 with 4 Axes>"
      ]
     },
     "metadata": {
      "needs_background": "light"
     },
     "output_type": "display_data"
    }
   ],
   "source": [
    "from statsmodels.tsa.seasonal import seasonal_decompose\n",
    "decompostion= seasonal_decompose(indexedDataset_logscale,freq=2)\n",
    "\n",
    "trend=decompostion.trend\n",
    "seasonal=decompostion.seasonal\n",
    "residual=decompostion.resid\n",
    "\n",
    "plt.subplot(411)\n",
    "plt.plot(indexedDataset_logscale,label='Original')\n",
    "plt.legend(loc='best')\n",
    "\n",
    "plt.subplot(412)\n",
    "plt.plot(trend,label='Trend')\n",
    "plt.legend(loc='best')\n",
    "\n",
    "plt.subplot(413)\n",
    "plt.plot(seasonal,label='Seasonal')\n",
    "plt.legend(loc='best')\n",
    "\n",
    "plt.subplot(414)\n",
    "plt.plot(residual,label='Residual')\n",
    "plt.legend(loc='best')\n",
    "\n",
    "plt.tight_layout()"
   ]
  },
  {
   "cell_type": "code",
   "execution_count": 60,
   "metadata": {},
   "outputs": [],
   "source": [
    "decomposedlogdata=residual"
   ]
  },
  {
   "cell_type": "code",
   "execution_count": 61,
   "metadata": {},
   "outputs": [],
   "source": [
    "decomposedlogdata.dropna(inplace=True)"
   ]
  },
  {
   "cell_type": "code",
   "execution_count": 64,
   "metadata": {},
   "outputs": [
    {
     "data": {
      "text/html": [
       "<div>\n",
       "<style scoped>\n",
       "    .dataframe tbody tr th:only-of-type {\n",
       "        vertical-align: middle;\n",
       "    }\n",
       "\n",
       "    .dataframe tbody tr th {\n",
       "        vertical-align: top;\n",
       "    }\n",
       "\n",
       "    .dataframe thead th {\n",
       "        text-align: right;\n",
       "    }\n",
       "</style>\n",
       "<table border=\"1\" class=\"dataframe\">\n",
       "  <thead>\n",
       "    <tr style=\"text-align: right;\">\n",
       "      <th></th>\n",
       "      <th>resid</th>\n",
       "    </tr>\n",
       "    <tr>\n",
       "      <th>YEAR_OBS</th>\n",
       "      <th></th>\n",
       "    </tr>\n",
       "  </thead>\n",
       "  <tbody>\n",
       "    <tr>\n",
       "      <th>1995-01-01</th>\n",
       "      <td>0.017329</td>\n",
       "    </tr>\n",
       "    <tr>\n",
       "      <th>1996-01-01</th>\n",
       "      <td>-0.017329</td>\n",
       "    </tr>\n",
       "    <tr>\n",
       "      <th>1997-01-01</th>\n",
       "      <td>0.017329</td>\n",
       "    </tr>\n",
       "    <tr>\n",
       "      <th>1998-01-01</th>\n",
       "      <td>-0.017329</td>\n",
       "    </tr>\n",
       "    <tr>\n",
       "      <th>1999-01-01</th>\n",
       "      <td>0.017329</td>\n",
       "    </tr>\n",
       "    <tr>\n",
       "      <th>2000-01-01</th>\n",
       "      <td>-0.017329</td>\n",
       "    </tr>\n",
       "    <tr>\n",
       "      <th>2001-01-01</th>\n",
       "      <td>0.017329</td>\n",
       "    </tr>\n",
       "    <tr>\n",
       "      <th>2002-01-01</th>\n",
       "      <td>-0.017329</td>\n",
       "    </tr>\n",
       "    <tr>\n",
       "      <th>2003-01-01</th>\n",
       "      <td>-0.155958</td>\n",
       "    </tr>\n",
       "    <tr>\n",
       "      <th>2005-01-01</th>\n",
       "      <td>0.155958</td>\n",
       "    </tr>\n",
       "    <tr>\n",
       "      <th>2006-01-01</th>\n",
       "      <td>0.017329</td>\n",
       "    </tr>\n",
       "    <tr>\n",
       "      <th>2007-01-01</th>\n",
       "      <td>-0.017329</td>\n",
       "    </tr>\n",
       "    <tr>\n",
       "      <th>2008-01-01</th>\n",
       "      <td>0.017329</td>\n",
       "    </tr>\n",
       "    <tr>\n",
       "      <th>2009-01-01</th>\n",
       "      <td>-0.017329</td>\n",
       "    </tr>\n",
       "    <tr>\n",
       "      <th>2010-01-01</th>\n",
       "      <td>0.017329</td>\n",
       "    </tr>\n",
       "    <tr>\n",
       "      <th>2011-01-01</th>\n",
       "      <td>-0.017329</td>\n",
       "    </tr>\n",
       "    <tr>\n",
       "      <th>2012-01-01</th>\n",
       "      <td>0.017329</td>\n",
       "    </tr>\n",
       "    <tr>\n",
       "      <th>2013-01-01</th>\n",
       "      <td>-0.017329</td>\n",
       "    </tr>\n",
       "    <tr>\n",
       "      <th>2014-01-01</th>\n",
       "      <td>0.017329</td>\n",
       "    </tr>\n",
       "    <tr>\n",
       "      <th>2015-01-01</th>\n",
       "      <td>-0.017329</td>\n",
       "    </tr>\n",
       "  </tbody>\n",
       "</table>\n",
       "</div>"
      ],
      "text/plain": [
       "               resid\n",
       "YEAR_OBS            \n",
       "1995-01-01  0.017329\n",
       "1996-01-01 -0.017329\n",
       "1997-01-01  0.017329\n",
       "1998-01-01 -0.017329\n",
       "1999-01-01  0.017329\n",
       "2000-01-01 -0.017329\n",
       "2001-01-01  0.017329\n",
       "2002-01-01 -0.017329\n",
       "2003-01-01 -0.155958\n",
       "2005-01-01  0.155958\n",
       "2006-01-01  0.017329\n",
       "2007-01-01 -0.017329\n",
       "2008-01-01  0.017329\n",
       "2009-01-01 -0.017329\n",
       "2010-01-01  0.017329\n",
       "2011-01-01 -0.017329\n",
       "2012-01-01  0.017329\n",
       "2013-01-01 -0.017329\n",
       "2014-01-01  0.017329\n",
       "2015-01-01 -0.017329"
      ]
     },
     "execution_count": 64,
     "metadata": {},
     "output_type": "execute_result"
    }
   ],
   "source": [
    "pd.DataFrame(decomposedlogdata.astype('float32'))"
   ]
  },
  {
   "cell_type": "code",
   "execution_count": 65,
   "metadata": {},
   "outputs": [
    {
     "data": {
      "image/png": "[encoded data removed]",
      "text/plain": [
       "<Figure size 360x432 with 1 Axes>"
      ]
     },
     "metadata": {
      "needs_background": "light"
     },
     "output_type": "display_data"
    },
    {
     "name": "stdout",
     "output_type": "stream",
     "text": [
      "Results Of Dickey-Fuller Test\n",
      "Test Statistcs          -1.190238\n",
      "P-value                  0.677781\n",
      "#Lags used               7.000000\n",
      "#Obs. used              12.000000\n",
      "Critical Value (1%)     -4.137829\n",
      "Critical Value (5%)     -3.154972\n",
      "Critical Value (10%)    -2.714477\n",
      "dtype: float64\n"
     ]
    }
   ],
   "source": [
    "test_stationary(pd.DataFrame(decomposedlogdata.astype('float32')))"
   ]
  },
  {
   "cell_type": "code",
   "execution_count": 66,
   "metadata": {},
   "outputs": [
    {
     "ename": "NameError",
     "evalue": "name 'dlds' is not defined",
     "output_type": "error",
     "traceback": [
      "\u001b[0;31m---------------------------------------------------------------------------\u001b[0m",
      "\u001b[0;31mNameError\u001b[0m                                 Traceback (most recent call last)",
      "\u001b[0;32m<ipython-input-66-b8612e691da0>\u001b[0m in \u001b[0;36m<module>\u001b[0;34m\u001b[0m\n\u001b[1;32m      1\u001b[0m \u001b[0;32mfrom\u001b[0m \u001b[0mstatsmodels\u001b[0m\u001b[0;34m.\u001b[0m\u001b[0mtsa\u001b[0m\u001b[0;34m.\u001b[0m\u001b[0mstattools\u001b[0m \u001b[0;32mimport\u001b[0m \u001b[0macf\u001b[0m\u001b[0;34m,\u001b[0m\u001b[0mpacf\u001b[0m\u001b[0;34m\u001b[0m\u001b[0;34m\u001b[0m\u001b[0m\n\u001b[0;32m----> 2\u001b[0;31m \u001b[0mlag_acf\u001b[0m\u001b[0;34m=\u001b[0m\u001b[0macf\u001b[0m\u001b[0;34m(\u001b[0m\u001b[0mdlds\u001b[0m\u001b[0;34m,\u001b[0m\u001b[0mnlags\u001b[0m\u001b[0;34m=\u001b[0m\u001b[0;36m20\u001b[0m\u001b[0;34m)\u001b[0m\u001b[0;34m\u001b[0m\u001b[0;34m\u001b[0m\u001b[0m\n\u001b[0m\u001b[1;32m      3\u001b[0m \u001b[0mlag_pacf\u001b[0m\u001b[0;34m=\u001b[0m\u001b[0mpacf\u001b[0m\u001b[0;34m(\u001b[0m\u001b[0mdlds\u001b[0m\u001b[0;34m,\u001b[0m\u001b[0mnlags\u001b[0m\u001b[0;34m=\u001b[0m\u001b[0;36m20\u001b[0m\u001b[0;34m,\u001b[0m\u001b[0mmethod\u001b[0m\u001b[0;34m=\u001b[0m\u001b[0;34m'ols'\u001b[0m\u001b[0;34m)\u001b[0m\u001b[0;34m\u001b[0m\u001b[0;34m\u001b[0m\u001b[0m\n\u001b[1;32m      4\u001b[0m \u001b[0;34m\u001b[0m\u001b[0m\n\u001b[1;32m      5\u001b[0m \u001b[0mplt\u001b[0m\u001b[0;34m.\u001b[0m\u001b[0msubplot\u001b[0m\u001b[0;34m(\u001b[0m\u001b[0;36m121\u001b[0m\u001b[0;34m)\u001b[0m\u001b[0;34m\u001b[0m\u001b[0;34m\u001b[0m\u001b[0m\n",
      "\u001b[0;31mNameError\u001b[0m: name 'dlds' is not defined"
     ]
    }
   ],
   "source": [
    "from statsmodels.tsa.stattools import acf,pacf\n",
    "lag_acf=acf(dlds,nlags=20)\n",
    "lag_pacf=pacf(dlds,nlags=20,method='ols')\n",
    "\n",
    "plt.subplot(121)\n",
    "plt.plot(lag_acf)\n",
    "plt.axhline(y=0, linestyle='--',color='gray')\n",
    "plt.axhline(y=1.96/np.sqrt(len(dlds)),linestyle='--',color='gray')\n",
    "plt.axhline(y=-1.96/np.sqrt(len(dlds)),linestyle='--',color='gray')\n",
    "plt.title('AutoCorrelation Function')\n",
    "\n",
    "plt.subplot(122)\n",
    "plt.plot(lag_pacf)\n",
    "plt.axhline(y=0, linestyle='--',color='gray')\n",
    "plt.axhline(y=1.96/np.sqrt(len(dlds)),linestyle='--',color='gray')\n",
    "plt.axhline(y=-1.96/np.sqrt(len(dlds)),linestyle='--',color='gray')\n",
    "plt.title('PartialAutoCorrelation Function')\n",
    "\n",
    "plt.tight_layout()"
   ]
  },
  {
   "cell_type": "code",
   "execution_count": null,
   "metadata": {},
   "outputs": [],
   "source": [
    "from statsmodels.tsa.arima_model import ARIMA\n",
    "\n",
    "model=ARIMA(indexedDataset_logscale,order=(5,1,0))\n",
    "results_AR=model.fit(disp=-1)\n",
    "plt.plot(dlds)\n",
    "plt.plot(results_AR.fittedvalues,color='red')\n",
    "plt.title('RSS: %.4f'%sum((results_AR.fittedvalues-dlds['No. Of Active Wells'])**2))\n",
    "print('Plotting AR Model')"
   ]
  },
  {
   "cell_type": "code",
   "execution_count": null,
   "metadata": {},
   "outputs": [],
   "source": [
    "model = ARIMA(indexedDataset_logscale, order=(0, 1, 5))  #0,1,2\n",
    "results_MA = model.fit(disp=-1)  \n",
    "plt.plot(dlds)\n",
    "plt.plot(results_MA.fittedvalues, color='red')\n",
    "plt.title('RSS: %.4f'%sum((results_MA.fittedvalues-dlds['No. Of Active Wells'])**2))\n",
    "print('Plotting MA Model')"
   ]
  },
  {
   "cell_type": "code",
   "execution_count": null,
   "metadata": {},
   "outputs": [],
   "source": [
    "model = ARIMA(indexedDataset_logscale, order=(5, 1, 1))  \n",
    "results_ARIMA = model.fit(disp=-1)  \n",
    "plt.plot(dlds)\n",
    "plt.plot(results_ARIMA.fittedvalues, color='red')\n",
    "plt.title('RSS: %.4f'%sum((results_ARIMA.fittedvalues-dlds['No. Of Active Wells'])**2))\n",
    "print('Plotting Combined Model')"
   ]
  },
  {
   "cell_type": "code",
   "execution_count": null,
   "metadata": {},
   "outputs": [],
   "source": [
    "predictions_ARIMA_diff = pd.Series(results_ARIMA.fittedvalues, copy=True)\n",
    "predictions_ARIMA_diff.head()"
   ]
  },
  {
   "cell_type": "code",
   "execution_count": null,
   "metadata": {},
   "outputs": [],
   "source": [
    "predictions_ARIMA_diff_cumsum = predictions_ARIMA_diff.cumsum()\n",
    "predictions_ARIMA_diff_cumsum.head()"
   ]
  },
  {
   "cell_type": "code",
   "execution_count": null,
   "metadata": {},
   "outputs": [],
   "source": [
    "predictions_ARIMA_log = pd.Series(indexedDataset_logscale['No. Of Active Wells'].ix[0], index=indexedDataset_logscale.index)\n",
    "predictions_ARIMA_log = predictions_ARIMA_log.add(predictions_ARIMA_diff_cumsum,fill_value=0)\n",
    "predictions_ARIMA_log.head()"
   ]
  },
  {
   "cell_type": "code",
   "execution_count": null,
   "metadata": {},
   "outputs": [],
   "source": [
    "(predictions_ARIMA-indexedDataset['No. Of Active Wells'])"
   ]
  },
  {
   "cell_type": "code",
   "execution_count": null,
   "metadata": {},
   "outputs": [],
   "source": [
    "predictions_ARIMA = np.exp(predictions_ARIMA_log)\n",
    "plt.plot(indexedDataset)\n",
    "plt.plot(predictions_ARIMA)\n",
    "plt.title('RMSE: %.4f'% np.sqrt(sum((predictions_ARIMA-indexedDataset['No. Of Active Wells'])**2)/len(indexedDataset)))"
   ]
  },
  {
   "cell_type": "code",
   "execution_count": null,
   "metadata": {},
   "outputs": [],
   "source": [
    "results_ARIMA.plot_predict(1,26)"
   ]
  },
  {
   "cell_type": "code",
   "execution_count": null,
   "metadata": {},
   "outputs": [],
   "source": [
    "x=results_ARIMA.forecast(steps=5)\n",
    "print(x)"
   ]
  },
  {
   "cell_type": "code",
   "execution_count": null,
   "metadata": {},
   "outputs": [],
   "source": [
    "np.exp(results_ARIMA.forecast(steps=5)[0])"
   ]
  },
  {
   "cell_type": "code",
   "execution_count": null,
   "metadata": {},
   "outputs": [],
   "source": []
  }
 ],
 "metadata": {
  "kernelspec": {
   "display_name": "Python 3",
   "language": "python",
   "name": "python3"
  },
  "language_info": {
   "codemirror_mode": {
    "name": "ipython",
    "version": 3
   },
   "file_extension": ".py",
   "mimetype": "text/x-python",
   "name": "python",
   "nbconvert_exporter": "python",
   "pygments_lexer": "ipython3",
   "version": "3.7.7"
  },
  "toc": {
   "base_numbering": 1,
   "nav_menu": {},
   "number_sections": true,
   "sideBar": true,
   "skip_h1_title": false,
   "title_cell": "Table of Contents",
   "title_sidebar": "Contents",
   "toc_cell": false,
   "toc_position": {},
   "toc_section_display": true,
   "toc_window_display": false
  }
 },
 "nbformat": 4,
 "nbformat_minor": 2
}
