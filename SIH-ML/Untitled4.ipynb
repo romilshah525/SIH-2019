{
 "cells": [
  {
   "cell_type": "code",
   "execution_count": 1,
   "metadata": {},
   "outputs": [],
   "source": [
    "import numpy as np\n",
    "import matplotlib.pyplot as plt\n",
    "%matplotlib inline\n",
    "import pandas as pd\n",
    "from matplotlib.pylab import rcParams\n",
    "rcParams['figure.figsize'] = 15, 6\n",
    "import warnings\n",
    "warnings.filterwarnings('ignore')"
   ]
  },
  {
   "cell_type": "code",
   "execution_count": 2,
   "metadata": {},
   "outputs": [],
   "source": [
    "ori=pd.read_csv('website_data_20190225.csv')"
   ]
  },
  {
   "cell_type": "code",
   "execution_count": 5,
   "metadata": {},
   "outputs": [],
   "source": [
    "orig=ori['SITE_NAME'].unique()"
   ]
  },
  {
   "cell_type": "code",
   "execution_count": 7,
   "metadata": {},
   "outputs": [
    {
     "data": {
      "text/plain": [
       "array(['Pakhriawas', 'Saradhana', 'Sanpla', 'Ramsar', 'Taragarh',\n",
       "       'Narbadkhera', 'Baglias', 'Barora', 'Sarwad', 'Morajhar',\n",
       "       'Maidayabadaya', 'Jhopadiyan', 'Masuda', 'Goelo-2', 'Nasirabad1',\n",
       "       'Lamana', 'Bogla', 'Kekri1', 'Jawaja', 'Ludiyana', 'Arian',\n",
       "       'Dasuk', 'Kanpur1', 'Tabiji', 'Tiloniya', 'Gopalpura', 'Daultpura',\n",
       "       'Andheri Devi', 'Ramgarh2', 'Ajagara', 'Kalyanpura1', 'Ghugra',\n",
       "       'Bandanwara', 'Manpura', 'Arjunpura', 'Beawar1', 'Kishangarh',\n",
       "       'Sarvena', 'Kalesra', 'Joonia', 'Tilora', 'Srinagar', 'Karel'],\n",
       "      dtype=object)"
      ]
     },
     "execution_count": 7,
     "metadata": {},
     "output_type": "execute_result"
    }
   ],
   "source": [
    "orig"
   ]
  },
  {
   "cell_type": "code",
   "execution_count": null,
   "metadata": {},
   "outputs": [],
   "source": []
  }
 ],
 "metadata": {
  "kernelspec": {
   "display_name": "Python 3",
   "language": "python",
   "name": "python3"
  },
  "language_info": {
   "codemirror_mode": {
    "name": "ipython",
    "version": 3
   },
   "file_extension": ".py",
   "mimetype": "text/x-python",
   "name": "python",
   "nbconvert_exporter": "python",
   "pygments_lexer": "ipython3",
   "version": "3.7.2"
  }
 },
 "nbformat": 4,
 "nbformat_minor": 2
}
