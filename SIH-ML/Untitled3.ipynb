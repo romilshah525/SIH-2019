{
 "cells": [
  {
   "cell_type": "code",
   "execution_count": 1,
   "metadata": {},
   "outputs": [],
   "source": [
    "import pandas as pd\n",
    "\n",
    "%matplotlib inline\n",
    "import matplotlib.pyplot as plt\n",
    "import matplotlib.dates as mdates\n",
    "\n",
    "import statsmodels.api as sm\n",
    "\n",
    "import seaborn as sns\n",
    "sns.set_style('whitegrid')\n",
    "sns.set_context('talk')"
   ]
  },
  {
   "cell_type": "code",
   "execution_count": 3,
   "metadata": {},
   "outputs": [],
   "source": [
    "ori=pd.read_csv('website_data_20190225.csv')"
   ]
  },
  {
   "cell_type": "code",
   "execution_count": 7,
   "metadata": {},
   "outputs": [
    {
     "name": "stdout",
     "output_type": "stream",
     "text": [
      "[0, 1, 2, 3, 4, 5, 6, 7, 8, 9, 10, 11, 12, 13, 14, 15, 16, 17, 18, 19, 20, 21, 22, 23, 24, 25, 26, 27, 28, 29, 30, 31, 32, 33, 34, 35, 36, 37, 38, 39, 40, 41, 42, 43, 44, 45, 46, 47, 48, 49, 50, 51, 52, 53, 54, 55, 56, 57, 58, 59, 60, 61, 62, 63, 64, 65, 66, 67, 68, 69, 70, 71, 72, 73, 74, 75, 76, 77, 78, 79, 80, 81, 82, 83, 84, 85, 86, 87, 88, 89, 90, 91, 92, 93, 94, 95, 96, 97, 98, 99, 100, 101, 102, 103, 104, 105, 106, 107, 108, 109, 110, 111, 112, 113, 114, 115, 116, 117, 118, 119, 120, 121, 122, 123, 124, 125, 126, 127, 128, 129, 130, 131, 132, 133, 134, 135, 136, 137, 138, 139, 140, 141, 142, 143, 144, 145, 146, 147, 148, 149, 150, 151, 152, 153, 154, 155, 156, 157, 158, 159, 160, 161, 162, 163, 164, 165, 166, 167, 168, 169, 170, 171, 172, 173, 174, 175, 176, 177, 178, 179, 180, 181, 182, 183, 184, 185, 186, 187, 188, 189, 190, 191, 192, 193, 194, 195, 196, 197, 198, 199, 200, 201, 202, 203, 204, 205, 206, 207, 208, 209, 210, 211, 212, 213, 214, 215, 216, 217, 218, 219, 220, 221, 222, 223, 224, 225, 226, 227, 228, 229, 230, 231, 232, 233, 234, 235, 236, 237, 238, 239, 240, 241, 242, 243, 244, 245, 246, 247, 248, 249, 250, 251, 252, 253, 254, 255, 256, 257, 258, 259, 260, 261, 262, 263, 264, 265, 266, 267, 268, 269, 270, 271, 272, 273, 274, 275, 276, 277, 278, 279, 280, 281, 282, 283, 284, 285, 286, 287, 288, 289, 290, 291, 292, 293, 294, 295, 296, 297, 298, 299, 300, 301, 302, 303, 304, 305, 306, 307, 308, 309, 310, 311, 312, 313, 314, 315, 316, 317, 318, 319, 320, 321, 322, 323, 324, 325, 326, 327, 328, 329, 330, 331, 332, 333, 334, 335, 336, 337, 338, 339, 340, 341, 342, 343, 344, 345, 346, 347, 348, 349, 350, 351, 352, 353, 354, 355, 356, 357, 358, 359, 360, 361, 362, 363, 364, 365, 366, 367, 368, 369, 370, 371, 372, 373, 374, 375, 376, 377, 378, 379, 380, 381, 382, 383, 384, 385, 386, 387, 388, 389, 390, 391, 392, 393, 394, 395, 396, 397, 398, 399, 400, 401, 402, 403, 404, 405, 406, 407, 408, 409, 410, 411, 412, 413, 414, 415, 416, 417, 418, 419, 420, 421, 422, 423, 424, 425, 426, 427, 428, 429, 430, 431, 432, 433, 434, 435, 436, 437, 438, 439, 440, 441, 442, 443, 444, 445, 446, 447, 448, 449, 450, 451, 452, 453, 454, 455, 456, 457, 458, 459, 460, 461, 462, 463, 464, 465, 466, 467, 468, 469, 470, 471, 472, 473, 474, 475, 476, 477, 478, 479, 480, 481, 482, 483, 484, 485, 486, 487, 488, 489, 490, 491, 492, 493, 494, 495, 496, 497, 498, 499, 500, 501, 502, 503, 504, 505, 506, 507, 508, 509, 510, 511, 512, 513, 514, 515, 516, 517, 518, 519, 520, 521, 522, 523, 524, 525, 526, 527, 528, 529, 530, 531, 532, 533, 534, 535, 536, 537, 538, 539, 540, 541, 542, 543, 544, 545, 546, 547, 548, 549, 550, 551, 552, 553, 554, 555, 556, 557, 558, 559, 560, 561, 562, 563, 564, 565, 566, 567, 568, 569, 570, 571, 572, 573, 574, 575, 576, 577, 578, 579, 580, 581, 582, 583, 584, 585, 586, 587, 588, 589, 590, 591, 592, 593, 594, 595, 596, 597, 598, 599, 600, 601, 602, 603, 604, 605, 606, 607, 608, 609, 610, 611, 612, 613, 614, 615, 616, 617, 618, 619, 620, 621, 622, 623, 624, 625, 626, 627, 628, 629, 630, 631, 632, 633, 634, 635, 636, 637, 638, 639, 640, 641, 642, 643, 644, 645, 646, 647, 648, 649, 650, 651, 652, 653, 654, 655, 656, 657, 658, 659, 660, 661, 662, 663, 664, 665, 666, 667, 668, 669, 670, 671, 672, 673, 674, 675, 676, 677, 678, 679, 680, 681, 682, 683, 684, 685, 686, 687, 688, 689, 690, 691, 692, 693, 694, 695, 696, 697, 698, 699, 700, 701, 702, 703, 704, 705, 706, 707, 708, 709, 710, 711, 712, 713, 714, 715, 716, 717, 718, 719, 720, 721, 722, 723, 724, 725, 726, 727, 728, 729, 730, 731, 732, 733, 734, 735, 736, 737]\n"
     ]
    }
   ],
   "source": [
    "print (list(ori.index))"
   ]
  },
  {
   "cell_type": "code",
   "execution_count": 8,
   "metadata": {},
   "outputs": [
    {
     "data": {
      "text/html": [
       "<div>\n",
       "<style scoped>\n",
       "    .dataframe tbody tr th:only-of-type {\n",
       "        vertical-align: middle;\n",
       "    }\n",
       "\n",
       "    .dataframe tbody tr th {\n",
       "        vertical-align: top;\n",
       "    }\n",
       "\n",
       "    .dataframe thead th {\n",
       "        text-align: right;\n",
       "    }\n",
       "</style>\n",
       "<table border=\"1\" class=\"dataframe\">\n",
       "  <thead>\n",
       "    <tr style=\"text-align: right;\">\n",
       "      <th></th>\n",
       "      <th>STATE</th>\n",
       "      <th>DISTRICT</th>\n",
       "      <th>TEH_NAME</th>\n",
       "      <th>BLOCK_NAME</th>\n",
       "      <th>LAT</th>\n",
       "      <th>LON</th>\n",
       "      <th>SITE_NAME</th>\n",
       "      <th>SITE_TYPE</th>\n",
       "      <th>WLCODE</th>\n",
       "      <th>YEAR_OBS</th>\n",
       "      <th>MONSOON</th>\n",
       "      <th>POMRB</th>\n",
       "      <th>POMKH</th>\n",
       "      <th>PREMON</th>\n",
       "    </tr>\n",
       "  </thead>\n",
       "  <tbody>\n",
       "    <tr>\n",
       "      <th>0</th>\n",
       "      <td>RJ</td>\n",
       "      <td>Ajmer</td>\n",
       "      <td>Beawar</td>\n",
       "      <td>Masuda</td>\n",
       "      <td>26.100000</td>\n",
       "      <td>74.416667</td>\n",
       "      <td>Pakhriawas</td>\n",
       "      <td>Dug Well</td>\n",
       "      <td>W13583</td>\n",
       "      <td>2018</td>\n",
       "      <td>'0</td>\n",
       "      <td>7.23</td>\n",
       "      <td>'0</td>\n",
       "      <td>'0</td>\n",
       "    </tr>\n",
       "    <tr>\n",
       "      <th>1</th>\n",
       "      <td>RJ</td>\n",
       "      <td>Ajmer</td>\n",
       "      <td>Masuda</td>\n",
       "      <td>Masuda</td>\n",
       "      <td>25.966667</td>\n",
       "      <td>74.433333</td>\n",
       "      <td>Ramgarh2</td>\n",
       "      <td>Bore Well</td>\n",
       "      <td>W20477</td>\n",
       "      <td>2018</td>\n",
       "      <td>'0</td>\n",
       "      <td>'0</td>\n",
       "      <td>'0</td>\n",
       "      <td>27.18</td>\n",
       "    </tr>\n",
       "    <tr>\n",
       "      <th>2</th>\n",
       "      <td>RJ</td>\n",
       "      <td>Ajmer</td>\n",
       "      <td>Sarwar</td>\n",
       "      <td>Arain</td>\n",
       "      <td>26.033333</td>\n",
       "      <td>75.100000</td>\n",
       "      <td>Ajagara</td>\n",
       "      <td>Dug Well</td>\n",
       "      <td>W13591</td>\n",
       "      <td>2018</td>\n",
       "      <td>'0</td>\n",
       "      <td>'0</td>\n",
       "      <td>'0</td>\n",
       "      <td>4.97</td>\n",
       "    </tr>\n",
       "    <tr>\n",
       "      <th>3</th>\n",
       "      <td>RJ</td>\n",
       "      <td>Ajmer</td>\n",
       "      <td>Sarwar</td>\n",
       "      <td>Arain</td>\n",
       "      <td>25.911111</td>\n",
       "      <td>75.041667</td>\n",
       "      <td>Sanpla</td>\n",
       "      <td>Dug Well</td>\n",
       "      <td>W13594</td>\n",
       "      <td>2018</td>\n",
       "      <td>'0</td>\n",
       "      <td>'0</td>\n",
       "      <td>'0</td>\n",
       "      <td>6.65</td>\n",
       "    </tr>\n",
       "    <tr>\n",
       "      <th>4</th>\n",
       "      <td>RJ</td>\n",
       "      <td>Ajmer</td>\n",
       "      <td>Beawar</td>\n",
       "      <td>Jawaja</td>\n",
       "      <td>26.050000</td>\n",
       "      <td>74.283333</td>\n",
       "      <td>Narbadkhera</td>\n",
       "      <td>Dug Well</td>\n",
       "      <td>W13582</td>\n",
       "      <td>2018</td>\n",
       "      <td>'0</td>\n",
       "      <td>'0</td>\n",
       "      <td>'0</td>\n",
       "      <td>14.6</td>\n",
       "    </tr>\n",
       "  </tbody>\n",
       "</table>\n",
       "</div>"
      ],
      "text/plain": [
       "  STATE DISTRICT TEH_NAME BLOCK_NAME        LAT        LON    SITE_NAME  \\\n",
       "0    RJ    Ajmer   Beawar     Masuda  26.100000  74.416667   Pakhriawas   \n",
       "1    RJ    Ajmer   Masuda     Masuda  25.966667  74.433333     Ramgarh2   \n",
       "2    RJ    Ajmer   Sarwar      Arain  26.033333  75.100000      Ajagara   \n",
       "3    RJ    Ajmer   Sarwar      Arain  25.911111  75.041667       Sanpla   \n",
       "4    RJ    Ajmer   Beawar     Jawaja  26.050000  74.283333  Narbadkhera   \n",
       "\n",
       "   SITE_TYPE  WLCODE  YEAR_OBS MONSOON POMRB POMKH PREMON  \n",
       "0   Dug Well  W13583      2018      '0  7.23    '0     '0  \n",
       "1  Bore Well  W20477      2018      '0    '0    '0  27.18  \n",
       "2   Dug Well  W13591      2018      '0    '0    '0   4.97  \n",
       "3   Dug Well  W13594      2018      '0    '0    '0   6.65  \n",
       "4   Dug Well  W13582      2018      '0    '0    '0   14.6  "
      ]
     },
     "execution_count": 8,
     "metadata": {},
     "output_type": "execute_result"
    }
   ],
   "source": [
    "ori.head()"
   ]
  },
  {
   "cell_type": "code",
   "execution_count": 9,
   "metadata": {},
   "outputs": [],
   "source": [
    "data=ori['YEAR_OBS']"
   ]
  },
  {
   "cell_type": "code",
   "execution_count": 10,
   "metadata": {},
   "outputs": [
    {
     "data": {
      "text/plain": [
       "0      2018\n",
       "1      2018\n",
       "2      2018\n",
       "3      2018\n",
       "4      2018\n",
       "5      2018\n",
       "6      2018\n",
       "7      2018\n",
       "8      2018\n",
       "9      2018\n",
       "10     2018\n",
       "11     2018\n",
       "12     2018\n",
       "13     2018\n",
       "14     2018\n",
       "15     2018\n",
       "16     2018\n",
       "17     2018\n",
       "18     2018\n",
       "19     2018\n",
       "20     2018\n",
       "21     2018\n",
       "22     2018\n",
       "23     2018\n",
       "24     2018\n",
       "25     2018\n",
       "26     2018\n",
       "27     2018\n",
       "28     2018\n",
       "29     2018\n",
       "       ... \n",
       "708    1995\n",
       "709    1995\n",
       "710    1995\n",
       "711    1995\n",
       "712    1995\n",
       "713    1995\n",
       "714    1994\n",
       "715    1994\n",
       "716    1994\n",
       "717    1994\n",
       "718    1994\n",
       "719    1994\n",
       "720    1994\n",
       "721    1994\n",
       "722    1994\n",
       "723    1994\n",
       "724    1994\n",
       "725    1994\n",
       "726    1994\n",
       "727    1994\n",
       "728    1994\n",
       "729    1994\n",
       "730    1994\n",
       "731    1994\n",
       "732    1994\n",
       "733    1994\n",
       "734    1994\n",
       "735    1994\n",
       "736    1994\n",
       "737    1994\n",
       "Name: YEAR_OBS, Length: 738, dtype: int64"
      ]
     },
     "execution_count": 10,
     "metadata": {},
     "output_type": "execute_result"
    }
   ],
   "source": [
    "data"
   ]
  },
  {
   "cell_type": "code",
   "execution_count": 11,
   "metadata": {},
   "outputs": [
    {
     "data": {
      "text/plain": [
       "[<matplotlib.lines.Line2D at 0x1e9d0cd9c18>]"
      ]
     },
     "execution_count": 11,
     "metadata": {},
     "output_type": "execute_result"
    },
    {
     "data": {
      "image/png": "[encoded data removed]",
      "text/plain": [
       "<Figure size 432x288 with 1 Axes>"
      ]
     },
     "metadata": {
      "needs_background": "light"
     },
     "output_type": "display_data"
    }
   ],
   "source": [
    "plt.plot(data)"
   ]
  },
  {
   "cell_type": "code",
   "execution_count": null,
   "metadata": {},
   "outputs": [],
   "source": []
  }
 ],
 "metadata": {
  "kernelspec": {
   "display_name": "Python 3",
   "language": "python",
   "name": "python3"
  },
  "language_info": {
   "codemirror_mode": {
    "name": "ipython",
    "version": 3
   },
   "file_extension": ".py",
   "mimetype": "text/x-python",
   "name": "python",
   "nbconvert_exporter": "python",
   "pygments_lexer": "ipython3",
   "version": "3.7.1"
  }
 },
 "nbformat": 4,
 "nbformat_minor": 2
}
